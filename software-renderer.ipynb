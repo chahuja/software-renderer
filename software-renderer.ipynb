{
 "cells": [
  {
   "cell_type": "code",
   "execution_count": 1,
   "metadata": {},
   "outputs": [],
   "source": [
    "import numpy as np\n",
    "import time\n",
    "from PIL import Image"
   ]
  },
  {
   "cell_type": "code",
   "execution_count": 2,
   "metadata": {},
   "outputs": [],
   "source": [
    "def clear(screen, color=[0, 0, 0]):\n",
    "    # Assign color to all pixels\n",
    "    screen[:] = np.array(color, dtype=np.uint8)    \n",
    "    return screen"
   ]
  },
  {
   "cell_type": "code",
   "execution_count": 3,
   "metadata": {},
   "outputs": [],
   "source": [
    "def bounding_box(points, screen):\n",
    "    bbmin = np.floor(np.min(points, 0)).astype('int')\n",
    "    bbmax = np.ceil(np.max(points, 0)).astype('int')\n",
    "    bbmin = np.clip(bbmin, [0, 0], [screen.shape[0] - 1, screen.shape[1] - 1])\n",
    "    bbmax = np.clip(bbmax, [0, 0], [screen.shape[0] - 1, screen.shape[1] - 1])    \n",
    "    return bbmin, bbmax"
   ]
  },
  {
   "cell_type": "code",
   "execution_count": 4,
   "metadata": {},
   "outputs": [],
   "source": [
    "def backfacing(t_points):\n",
    "    # Check derminant (aka 2d cross product) of a triangle sector\n",
    "    M = np.concatenate(([t_points[1] - t_points[0]], [t_points[2] - t_points[0]]))\n",
    "    return np.linalg.det(M) < 0"
   ]
  },
  {
   "cell_type": "code",
   "execution_count": 5,
   "metadata": {},
   "outputs": [],
   "source": [
    "def point_in_triangle(p, t_points):\n",
    "    for i in range(3):\n",
    "        # Compute inward-pointing 2d normal of edge\n",
    "        edge = t_points[(i + 1) % 3] - t_points[i]\n",
    "        n = np.array([-edge[1], edge[0]])\n",
    "        \n",
    "        # The point is inside iff it lies on the correct side of all edges\n",
    "        if np.dot(n, p - t_points[i]) < 0:\n",
    "            return False\n",
    "        \n",
    "    return True"
   ]
  },
  {
   "cell_type": "code",
   "execution_count": 6,
   "metadata": {},
   "outputs": [],
   "source": [
    "def vertex_shader(V):\n",
    "    # Cut off z component\n",
    "    # TODO: those are not NDC yet\n",
    "    return V[:, 0:2]"
   ]
  },
  {
   "cell_type": "code",
   "execution_count": 7,
   "metadata": {},
   "outputs": [],
   "source": [
    "def rasterize(V, T, screen):\n",
    "    # Pineda algorithm\n",
    "    fragments = []\n",
    "    \n",
    "    for t in T:\n",
    "        # V[t] is the 2x3 matrix of triangle vertex positions\n",
    "        if backfacing(V[t]):\n",
    "            continue\n",
    "        \n",
    "        # Compute bounding box\n",
    "        bbmin, bbmax = bounding_box(V[t], screen)\n",
    "        \n",
    "        # Check fragments within bounding box\n",
    "        for x in range(bbmin[0], bbmax[0] + 1):\n",
    "            for y in range(bbmin[1], bbmax[1] + 1):\n",
    "                if point_in_triangle([x, y], V[t]):\n",
    "                    fragments.append([x, y])\n",
    "    \n",
    "    return fragments"
   ]
  },
  {
   "cell_type": "code",
   "execution_count": 8,
   "metadata": {},
   "outputs": [],
   "source": [
    "def fragment_shader(fragments, sceen):\n",
    "    for x, y in fragments:\n",
    "        screen[x, y] = [255, 255, 0]"
   ]
  },
  {
   "cell_type": "code",
   "execution_count": 9,
   "metadata": {},
   "outputs": [],
   "source": [
    "def render(V, T, screen):\n",
    "    screen = clear(screen, [64, 64, 64])\n",
    "    \n",
    "    # Transform vertices into normalized device coordinates (ndc)\n",
    "    V_ndc = vertex_shader(V)\n",
    "\n",
    "    # TODO: viewport transform?\n",
    "    \n",
    "    # Generate list of fragments\n",
    "    fragments = rasterize(V_ndc, T, screen)\n",
    "    \n",
    "    # Compute pixel colors\n",
    "    screen = fragment_shader(fragments, screen)"
   ]
  },
  {
   "cell_type": "code",
   "execution_count": 10,
   "metadata": {
    "scrolled": true
   },
   "outputs": [
    {
     "name": "stdout",
     "output_type": "stream",
     "text": [
      "Render took 0.096167 seconds.\n"
     ]
    },
    {
     "data": {
      "image/png": "[encoded data removed]",
      "text/plain": [
       "<PIL.Image.Image image mode=RGB size=568x320 at 0x1070BBD68>"
      ]
     },
     "execution_count": 10,
     "metadata": {},
     "output_type": "execute_result"
    }
   ],
   "source": [
    "height = 320\n",
    "width = height * 16 // 9\n",
    "\n",
    "# Load mesh\n",
    "V = np.array([[0, 0, 0], [80, 0, 0], [0, 60, 0]], dtype=np.float)\n",
    "T = np.array([[0, 1, 2]], dtype=np.int)\n",
    "\n",
    "# Init screen buffer\n",
    "screen = np.zeros((width, height, 3), dtype=np.uint8)\n",
    "\n",
    "start = time.time()\n",
    "\n",
    "render(V, T, screen)\n",
    "\n",
    "seconds = time.time() - start\n",
    "print(\"Render took %f seconds.\" % seconds)\n",
    "\n",
    "# Show screen buffer\n",
    "Image.fromarray(np.transpose(screen, (1, 0, 2)))"
   ]
  }
 ],
 "metadata": {
  "kernelspec": {
   "display_name": "Python 3",
   "language": "python",
   "name": "python3"
  },
  "language_info": {
   "codemirror_mode": {
    "name": "ipython",
    "version": 3
   },
   "file_extension": ".py",
   "mimetype": "text/x-python",
   "name": "python",
   "nbconvert_exporter": "python",
   "pygments_lexer": "ipython3",
   "version": "3.7.0"
  }
 },
 "nbformat": 4,
 "nbformat_minor": 2
}
